{
 "cells": [
  {
   "cell_type": "code",
   "execution_count": 1,
   "metadata": {},
   "outputs": [],
   "source": [
    "import numpy as np\n",
    "import pandas as pd\n",
    "import time\n",
    "import matplotlib.pyplot as plt\n",
    "import seaborn as sns  #data visualization library\n",
    "from sklearn.linear_model import LogisticRegression\n",
    "from sklearn.model_selection import train_test_split, KFold\n",
    "from sklearn.metrics import classification_report\n",
    "from sklearn.svm import SVC\n",
    "from sklearn.metrics import accuracy_score, confusion_matrix, zero_one_loss  # evaluation metrics"
   ]
  },
  {
   "cell_type": "code",
   "execution_count": 2,
   "metadata": {},
   "outputs": [
    {
     "data": {
      "text/html": [
       "<div>\n",
       "<style scoped>\n",
       "    .dataframe tbody tr th:only-of-type {\n",
       "        vertical-align: middle;\n",
       "    }\n",
       "\n",
       "    .dataframe tbody tr th {\n",
       "        vertical-align: top;\n",
       "    }\n",
       "\n",
       "    .dataframe thead th {\n",
       "        text-align: right;\n",
       "    }\n",
       "</style>\n",
       "<table border=\"1\" class=\"dataframe\">\n",
       "  <thead>\n",
       "    <tr style=\"text-align: right;\">\n",
       "      <th></th>\n",
       "      <th>time</th>\n",
       "      <th>time format</th>\n",
       "      <th>minute</th>\n",
       "      <th>second</th>\n",
       "      <th>total</th>\n",
       "      <th>within pity</th>\n",
       "      <th>4* counter</th>\n",
       "      <th>4* drop rate</th>\n",
       "      <th>5* drop rate</th>\n",
       "      <th>rarity</th>\n",
       "    </tr>\n",
       "  </thead>\n",
       "  <tbody>\n",
       "    <tr>\n",
       "      <th>0</th>\n",
       "      <td>2021-08-10 22:47:48</td>\n",
       "      <td>22:47:48</td>\n",
       "      <td>47</td>\n",
       "      <td>48</td>\n",
       "      <td>1</td>\n",
       "      <td>1</td>\n",
       "      <td>1</td>\n",
       "      <td>0.051</td>\n",
       "      <td>0.006</td>\n",
       "      <td>3</td>\n",
       "    </tr>\n",
       "    <tr>\n",
       "      <th>1</th>\n",
       "      <td>2021-08-10 22:47:48</td>\n",
       "      <td>22:47:48</td>\n",
       "      <td>47</td>\n",
       "      <td>48</td>\n",
       "      <td>2</td>\n",
       "      <td>2</td>\n",
       "      <td>2</td>\n",
       "      <td>0.051</td>\n",
       "      <td>0.006</td>\n",
       "      <td>3</td>\n",
       "    </tr>\n",
       "    <tr>\n",
       "      <th>2</th>\n",
       "      <td>2021-08-10 22:47:48</td>\n",
       "      <td>22:47:48</td>\n",
       "      <td>47</td>\n",
       "      <td>48</td>\n",
       "      <td>3</td>\n",
       "      <td>3</td>\n",
       "      <td>3</td>\n",
       "      <td>0.051</td>\n",
       "      <td>0.006</td>\n",
       "      <td>3</td>\n",
       "    </tr>\n",
       "    <tr>\n",
       "      <th>3</th>\n",
       "      <td>2021-08-10 22:47:48</td>\n",
       "      <td>22:47:48</td>\n",
       "      <td>47</td>\n",
       "      <td>48</td>\n",
       "      <td>4</td>\n",
       "      <td>4</td>\n",
       "      <td>4</td>\n",
       "      <td>0.051</td>\n",
       "      <td>0.006</td>\n",
       "      <td>3</td>\n",
       "    </tr>\n",
       "    <tr>\n",
       "      <th>4</th>\n",
       "      <td>2021-08-10 22:47:48</td>\n",
       "      <td>22:47:48</td>\n",
       "      <td>47</td>\n",
       "      <td>48</td>\n",
       "      <td>5</td>\n",
       "      <td>5</td>\n",
       "      <td>5</td>\n",
       "      <td>0.051</td>\n",
       "      <td>0.006</td>\n",
       "      <td>3</td>\n",
       "    </tr>\n",
       "  </tbody>\n",
       "</table>\n",
       "</div>"
      ],
      "text/plain": [
       "                  time time format  minute  second  total  within pity  \\\n",
       "0  2021-08-10 22:47:48    22:47:48      47      48      1            1   \n",
       "1  2021-08-10 22:47:48    22:47:48      47      48      2            2   \n",
       "2  2021-08-10 22:47:48    22:47:48      47      48      3            3   \n",
       "3  2021-08-10 22:47:48    22:47:48      47      48      4            4   \n",
       "4  2021-08-10 22:47:48    22:47:48      47      48      5            5   \n",
       "\n",
       "   4* counter  4* drop rate  5* drop rate  rarity  \n",
       "0           1         0.051         0.006       3  \n",
       "1           2         0.051         0.006       3  \n",
       "2           3         0.051         0.006       3  \n",
       "3           4         0.051         0.006       3  \n",
       "4           5         0.051         0.006       3  "
      ]
     },
     "execution_count": 2,
     "metadata": {},
     "output_type": "execute_result"
    }
   ],
   "source": [
    "FMIRawData = pd.read_excel(\"data.xlsx\")\n",
    "\n",
    "# sanity check the shape of FMIRawData\n",
    "assert FMIRawData.shape == (387,10)\n",
    "\n",
    "# print the first 5 rows of the DataFrame 'FMIRawData'\n",
    "FMIRawData.head(5) "
   ]
  },
  {
   "cell_type": "code",
   "execution_count": 3,
   "metadata": {},
   "outputs": [
    {
     "data": {
      "text/plain": [
       "Index(['time', 'time format', 'minute', 'second', 'total', 'within pity',\n",
       "       '4* counter', '4* drop rate', '5* drop rate', 'rarity'],\n",
       "      dtype='object')"
      ]
     },
     "execution_count": 3,
     "metadata": {},
     "output_type": "execute_result"
    }
   ],
   "source": [
    "#check the columns in the data\n",
    "FMIRawData.columns"
   ]
  },
  {
   "cell_type": "code",
   "execution_count": 4,
   "metadata": {},
   "outputs": [
    {
     "data": {
      "text/html": [
       "<div>\n",
       "<style scoped>\n",
       "    .dataframe tbody tr th:only-of-type {\n",
       "        vertical-align: middle;\n",
       "    }\n",
       "\n",
       "    .dataframe tbody tr th {\n",
       "        vertical-align: top;\n",
       "    }\n",
       "\n",
       "    .dataframe thead th {\n",
       "        text-align: right;\n",
       "    }\n",
       "</style>\n",
       "<table border=\"1\" class=\"dataframe\">\n",
       "  <thead>\n",
       "    <tr style=\"text-align: right;\">\n",
       "      <th></th>\n",
       "      <th>minute</th>\n",
       "      <th>second</th>\n",
       "      <th>4* drop rate</th>\n",
       "      <th>5* drop rate</th>\n",
       "      <th>rarity</th>\n",
       "    </tr>\n",
       "  </thead>\n",
       "  <tbody>\n",
       "    <tr>\n",
       "      <th>0</th>\n",
       "      <td>47</td>\n",
       "      <td>48</td>\n",
       "      <td>0.051</td>\n",
       "      <td>0.006</td>\n",
       "      <td>3</td>\n",
       "    </tr>\n",
       "    <tr>\n",
       "      <th>1</th>\n",
       "      <td>47</td>\n",
       "      <td>48</td>\n",
       "      <td>0.051</td>\n",
       "      <td>0.006</td>\n",
       "      <td>3</td>\n",
       "    </tr>\n",
       "    <tr>\n",
       "      <th>2</th>\n",
       "      <td>47</td>\n",
       "      <td>48</td>\n",
       "      <td>0.051</td>\n",
       "      <td>0.006</td>\n",
       "      <td>3</td>\n",
       "    </tr>\n",
       "    <tr>\n",
       "      <th>3</th>\n",
       "      <td>47</td>\n",
       "      <td>48</td>\n",
       "      <td>0.051</td>\n",
       "      <td>0.006</td>\n",
       "      <td>3</td>\n",
       "    </tr>\n",
       "    <tr>\n",
       "      <th>4</th>\n",
       "      <td>47</td>\n",
       "      <td>48</td>\n",
       "      <td>0.051</td>\n",
       "      <td>0.006</td>\n",
       "      <td>3</td>\n",
       "    </tr>\n",
       "  </tbody>\n",
       "</table>\n",
       "</div>"
      ],
      "text/plain": [
       "   minute  second  4* drop rate  5* drop rate  rarity\n",
       "0      47      48         0.051         0.006       3\n",
       "1      47      48         0.051         0.006       3\n",
       "2      47      48         0.051         0.006       3\n",
       "3      47      48         0.051         0.006       3\n",
       "4      47      48         0.051         0.006       3"
      ]
     },
     "execution_count": 4,
     "metadata": {},
     "output_type": "execute_result"
    }
   ],
   "source": [
    "#remove unnecessary columns\n",
    "data = FMIRawData.drop(['time','time format','total','4* counter','within pity'], axis=1)\n",
    "\n",
    "data.head(5) "
   ]
  },
  {
   "cell_type": "code",
   "execution_count": 5,
   "metadata": {
    "scrolled": true
   },
   "outputs": [
    {
     "data": {
      "image/png": "[encoded data removed]",
      "text/plain": [
       "<Figure size 576x432 with 4 Axes>"
      ]
     },
     "metadata": {
      "needs_background": "light"
     },
     "output_type": "display_data"
    }
   ],
   "source": [
    "#Separate scatter plots between one feature to the label 'rarity' \n",
    "#The darker the dots, the denser the population is/\n",
    "\n",
    "jet= plt.get_cmap('hsv')\n",
    "colors = iter(jet(np.linspace(0,1,10)))\n",
    "\n",
    " \n",
    "def correlation(df,variables, n_rows, n_cols):\n",
    "    fig = plt.figure(figsize=(8,6))\n",
    "    \n",
    "    for i, var in enumerate(variables):        \n",
    "        ax = fig.add_subplot(n_rows,n_cols,i+1)\n",
    "        asset = df.loc[:,var]\n",
    "        ax.scatter(asset, df[\"rarity\"], color = next(colors), alpha=0.2)\n",
    "        ax.set_ylabel(\"rarity\")\n",
    "        ax.set_xlabel(\"{}\".format(var))\n",
    "        ax.set_title(var +\" vs rarity\")\n",
    "    fig.tight_layout() \n",
    "    plt.show()\n",
    "        \n",
    "# variables contain the names of the columns of 4 features\n",
    "variables = data.columns[0:4]  \n",
    " \n",
    "correlation(data,variables,2,2)"
   ]
  },
  {
   "cell_type": "code",
   "execution_count": 6,
   "metadata": {},
   "outputs": [
    {
     "data": {
      "text/plain": [
       "minute          0.029049\n",
       "second          0.022555\n",
       "4* drop rate    0.490784\n",
       "5* drop rate    0.186709\n",
       "Name: rarity, dtype: float64"
      ]
     },
     "execution_count": 6,
     "metadata": {},
     "output_type": "execute_result"
    }
   ],
   "source": [
    "#calculate correlation between different features to the label 'rarity'\n",
    "data.corr()['rarity'].loc[variables]"
   ]
  },
  {
   "cell_type": "code",
   "execution_count": 7,
   "metadata": {},
   "outputs": [
    {
     "data": {
      "text/html": [
       "<div>\n",
       "<style scoped>\n",
       "    .dataframe tbody tr th:only-of-type {\n",
       "        vertical-align: middle;\n",
       "    }\n",
       "\n",
       "    .dataframe tbody tr th {\n",
       "        vertical-align: top;\n",
       "    }\n",
       "\n",
       "    .dataframe thead th {\n",
       "        text-align: right;\n",
       "    }\n",
       "</style>\n",
       "<table border=\"1\" class=\"dataframe\">\n",
       "  <thead>\n",
       "    <tr style=\"text-align: right;\">\n",
       "      <th></th>\n",
       "      <th>minute</th>\n",
       "      <th>second</th>\n",
       "      <th>4* drop rate</th>\n",
       "      <th>5* drop rate</th>\n",
       "      <th>rarity</th>\n",
       "      <th>binarized rarity</th>\n",
       "    </tr>\n",
       "  </thead>\n",
       "  <tbody>\n",
       "    <tr>\n",
       "      <th>0</th>\n",
       "      <td>47</td>\n",
       "      <td>48</td>\n",
       "      <td>0.051</td>\n",
       "      <td>0.006</td>\n",
       "      <td>3</td>\n",
       "      <td>0</td>\n",
       "    </tr>\n",
       "    <tr>\n",
       "      <th>1</th>\n",
       "      <td>47</td>\n",
       "      <td>48</td>\n",
       "      <td>0.051</td>\n",
       "      <td>0.006</td>\n",
       "      <td>3</td>\n",
       "      <td>0</td>\n",
       "    </tr>\n",
       "    <tr>\n",
       "      <th>2</th>\n",
       "      <td>47</td>\n",
       "      <td>48</td>\n",
       "      <td>0.051</td>\n",
       "      <td>0.006</td>\n",
       "      <td>3</td>\n",
       "      <td>0</td>\n",
       "    </tr>\n",
       "    <tr>\n",
       "      <th>3</th>\n",
       "      <td>47</td>\n",
       "      <td>48</td>\n",
       "      <td>0.051</td>\n",
       "      <td>0.006</td>\n",
       "      <td>3</td>\n",
       "      <td>0</td>\n",
       "    </tr>\n",
       "    <tr>\n",
       "      <th>4</th>\n",
       "      <td>47</td>\n",
       "      <td>48</td>\n",
       "      <td>0.051</td>\n",
       "      <td>0.006</td>\n",
       "      <td>3</td>\n",
       "      <td>0</td>\n",
       "    </tr>\n",
       "    <tr>\n",
       "      <th>5</th>\n",
       "      <td>47</td>\n",
       "      <td>48</td>\n",
       "      <td>0.051</td>\n",
       "      <td>0.006</td>\n",
       "      <td>3</td>\n",
       "      <td>0</td>\n",
       "    </tr>\n",
       "    <tr>\n",
       "      <th>6</th>\n",
       "      <td>47</td>\n",
       "      <td>48</td>\n",
       "      <td>0.051</td>\n",
       "      <td>0.006</td>\n",
       "      <td>3</td>\n",
       "      <td>0</td>\n",
       "    </tr>\n",
       "    <tr>\n",
       "      <th>7</th>\n",
       "      <td>47</td>\n",
       "      <td>48</td>\n",
       "      <td>0.051</td>\n",
       "      <td>0.006</td>\n",
       "      <td>3</td>\n",
       "      <td>0</td>\n",
       "    </tr>\n",
       "    <tr>\n",
       "      <th>8</th>\n",
       "      <td>47</td>\n",
       "      <td>48</td>\n",
       "      <td>0.561</td>\n",
       "      <td>0.006</td>\n",
       "      <td>3</td>\n",
       "      <td>0</td>\n",
       "    </tr>\n",
       "    <tr>\n",
       "      <th>9</th>\n",
       "      <td>47</td>\n",
       "      <td>48</td>\n",
       "      <td>1.000</td>\n",
       "      <td>0.006</td>\n",
       "      <td>4</td>\n",
       "      <td>1</td>\n",
       "    </tr>\n",
       "  </tbody>\n",
       "</table>\n",
       "</div>"
      ],
      "text/plain": [
       "   minute  second  4* drop rate  5* drop rate  rarity binarized rarity\n",
       "0      47      48         0.051         0.006       3                0\n",
       "1      47      48         0.051         0.006       3                0\n",
       "2      47      48         0.051         0.006       3                0\n",
       "3      47      48         0.051         0.006       3                0\n",
       "4      47      48         0.051         0.006       3                0\n",
       "5      47      48         0.051         0.006       3                0\n",
       "6      47      48         0.051         0.006       3                0\n",
       "7      47      48         0.051         0.006       3                0\n",
       "8      47      48         0.561         0.006       3                0\n",
       "9      47      48         1.000         0.006       4                1"
      ]
     },
     "execution_count": 7,
     "metadata": {},
     "output_type": "execute_result"
    }
   ],
   "source": [
    "#We will use logistic regression for the dataset\n",
    "\n",
    "#label 0 means wishes that don't result in a rarity-4 or rarity-5 items.\n",
    "#label 1 means wishes that result in a rarity 4 or 5\n",
    "\n",
    "bi_labels = [0,1]\n",
    "bi_cut_bins = [0,3,6]\n",
    "binarized_rarity = pd.cut(data['rarity'],\\\n",
    "                          bins=bi_cut_bins, labels = bi_labels, include_lowest = True)\n",
    "\n",
    "data.insert(5, 'binarized rarity', binarized_rarity)\n",
    "data.head(10)"
   ]
  },
  {
   "cell_type": "code",
   "execution_count": 8,
   "metadata": {},
   "outputs": [
    {
     "data": {
      "image/png": "[encoded data removed]",
      "text/plain": [
       "<Figure size 576x432 with 4 Axes>"
      ]
     },
     "metadata": {
      "needs_background": "light"
     },
     "output_type": "display_data"
    }
   ],
   "source": [
    "#visualize the data but with binarized rarity instead\n",
    "\n",
    "jet= plt.get_cmap('hsv')\n",
    "colors = iter(jet(np.linspace(0,1,10)))\n",
    "\n",
    " \n",
    "def correlation(df,variables, n_rows, n_cols):\n",
    "    fig = plt.figure(figsize=(8,6))\n",
    "    \n",
    "    for i, var in enumerate(variables):        \n",
    "        ax = fig.add_subplot(n_rows,n_cols,i+1)\n",
    "        asset = df.loc[:,var]\n",
    "        ax.scatter(asset,df[\"binarized rarity\"], color = next(colors), alpha=0.1)\n",
    "        ax.set_ylabel(\"binarized rarity\")\n",
    "        ax.set_xlabel(\"{}\".format(var))\n",
    "        ax.set_title(var +\" vs rarity\")\n",
    "    fig.tight_layout() \n",
    "    plt.show()\n",
    "        \n",
    "# variables contain the names of the columns of 4 features\n",
    "variables = data.columns[0:4]  \n",
    " \n",
    "correlation(data,variables,3,3)"
   ]
  },
  {
   "cell_type": "code",
   "execution_count": 9,
   "metadata": {},
   "outputs": [],
   "source": [
    "# Some observations from the above figures\n",
    "# 1. Better rarity happens approximately in the last 30 minutes of an hour and in the first 40 seconds of a minute\n",
    "# i.e. from (mm:ss) 31:00  until 31:40, then 31:00 until 31:40, etc \n",
    "# 2. Higher drop rates do not guarantee better rarity"
   ]
  },
  {
   "cell_type": "code",
   "execution_count": 10,
   "metadata": {},
   "outputs": [],
   "source": [
    "#X is a list of features\n",
    "X = data.values[:,0:4]\n",
    "#label rarity\n",
    "y = data['binarized rarity'].to_numpy()\n"
   ]
  },
  {
   "cell_type": "code",
   "execution_count": 11,
   "metadata": {},
   "outputs": [],
   "source": [
    "#SPLIT THE DATASET\n",
    "#60% of the dataset is used for model training\n",
    "X_train, X_rem, y_train, y_rem = train_test_split(X, y, test_size=0.4, random_state=42)\n",
    "\n",
    "#50% of the remaining dataset is used for model testing, the rest is used for validation\n",
    "X_val, X_test, y_val, y_test = train_test_split(X_rem, y_rem, test_size=0.5, random_state=42)\n"
   ]
  },
  {
   "cell_type": "code",
   "execution_count": 12,
   "metadata": {},
   "outputs": [
    {
     "name": "stdout",
     "output_type": "stream",
     "text": [
      "accuracy of the train set:  0.8706896551724138\n",
      "accuracy of the validation set:  0.922077922077922\n",
      "Time to performed logistic regression: 0.049822092056274414s\n",
      "              precision    recall  f1-score   support\n",
      "\n",
      "           0       0.96      0.96      0.96        70\n",
      "           1       0.57      0.57      0.57         7\n",
      "\n",
      "    accuracy                           0.92        77\n",
      "   macro avg       0.76      0.76      0.76        77\n",
      "weighted avg       0.92      0.92      0.92        77\n",
      "\n"
     ]
    }
   ],
   "source": [
    "#Apply Logistic regression for the train and validation set\n",
    "start = time.time()\n",
    "clf = LogisticRegression(C=100000)  \n",
    "clf.fit(X_train, y_train)\n",
    "y_pred_train = clf.predict(X_train)\n",
    "acc_train = accuracy_score(y_train, y_pred_train)\n",
    "\n",
    "y_pred_val = clf.predict(X_val)\n",
    "acc_val = accuracy_score(y_val, y_pred_val)\n",
    "stop = time.time()\n",
    "clf_report= classification_report(y_pred_val, y_val)\n",
    "print(\"accuracy of the train set: \", acc_train)\n",
    "print(\"accuracy of the validation set: \", acc_val)\n",
    "print(f\"Time to performed logistic regression: {stop-start}s\")\n",
    "print(clf_report)\n",
    "\n"
   ]
  },
  {
   "cell_type": "code",
   "execution_count": 13,
   "metadata": {
    "scrolled": true
   },
   "outputs": [
    {
     "name": "stdout",
     "output_type": "stream",
     "text": [
      "accuracy of the train set using SVC:  0.8318965517241379\n",
      "accuracy of the validation set using SVC:  0.8961038961038961\n",
      "Time to performed SVC: 80.63414716720581s\n",
      "              precision    recall  f1-score   support\n",
      "\n",
      "           0       0.94      0.94      0.94        70\n",
      "           1       0.43      0.43      0.43         7\n",
      "\n",
      "    accuracy                           0.90        77\n",
      "   macro avg       0.69      0.69      0.69        77\n",
      "weighted avg       0.90      0.90      0.90        77\n",
      "\n"
     ]
    }
   ],
   "source": [
    "# Apply SVC for the train and validation set\n",
    "startSVC = time.time()\n",
    "clf1 = SVC(kernel=\"linear\", C=100000)\n",
    "clf1.fit(X_train, y_train)\n",
    "\n",
    "y_pred_train_SVC = clf1.predict(X_train)\n",
    "acc_train_SVC = accuracy_score(y_train, y_pred_train_SVC)\n",
    "\n",
    "y_pred_val_SVC = clf1.predict(X_val)\n",
    "acc_val_SVC = accuracy_score(y_val, y_pred_val_SVC)\n",
    "stopSVC = time.time()\n",
    "clf_report= classification_report(y_pred_val_SVC, y_val)\n",
    "print(\"accuracy of the train set using SVC: \", acc_train_SVC)\n",
    "print(\"accuracy of the validation set using SVC: \", acc_val_SVC)\n",
    "print(f\"Time to performed SVC: {stopSVC-startSVC}s\")\n",
    "print(clf_report)\n"
   ]
  },
  {
   "cell_type": "code",
   "execution_count": 14,
   "metadata": {},
   "outputs": [
    {
     "data": {
      "image/png": "[encoded data removed]",
      "text/plain": [
       "<Figure size 432x288 with 1 Axes>"
      ]
     },
     "metadata": {
      "needs_background": "light"
     },
     "output_type": "display_data"
    }
   ],
   "source": [
    "# Use KFold for Logistic regression, n_splits = 15\n",
    "cv = KFold(n_splits=15, random_state=43, shuffle=True)\n",
    "validation_accuracy = []\n",
    "for train_index, val_index in cv.split(y):\n",
    "\n",
    "    X_train, X_val = X[train_index], X[val_index]\n",
    "    y_train, y_val = y[train_index], y[val_index]\n",
    "    clf = LogisticRegression(C=100000)  \n",
    "    clf.fit(X_train, y_train)\n",
    "    y_pred_val = clf.predict(X_val)\n",
    "    acc_val = accuracy_score(y_val, y_pred_val)\n",
    "    \n",
    "    validation_accuracy.append(acc_val)\n",
    "\n",
    "plt.hist(validation_accuracy)\n",
    "plt.title(\"Validation accuracy distribution for logistic regression\")\n",
    "plt.show() "
   ]
  },
  {
   "cell_type": "code",
   "execution_count": 15,
   "metadata": {},
   "outputs": [
    {
     "data": {
      "image/png": "[encoded data removed]",
      "text/plain": [
       "<Figure size 432x288 with 1 Axes>"
      ]
     },
     "metadata": {
      "needs_background": "light"
     },
     "output_type": "display_data"
    }
   ],
   "source": [
    "# Use KFold for SVC, n_splits = 15\n",
    "cv1 = KFold(n_splits=15, random_state=43, shuffle=True)\n",
    "validation_accuracy = []\n",
    "for train_index, val_index in cv1.split(y):\n",
    "\n",
    "    X_train, X_val = X[train_index], X[val_index]\n",
    "    y_train, y_val = y[train_index], y[val_index]\n",
    "    clf = SVC(kernel=\"linear\",C=100000)  \n",
    "    clf.fit(X_train, y_train)\n",
    "    y_pred_val = clf.predict(X_val)\n",
    "    acc_val = accuracy_score(y_val, y_pred_val)\n",
    "    \n",
    "    validation_accuracy.append(acc_val)\n",
    "\n",
    "plt.hist(validation_accuracy)\n",
    "plt.title(\"Validation accuracy distribution for SVC\")\n",
    "plt.show() "
   ]
  },
  {
   "cell_type": "code",
   "execution_count": 16,
   "metadata": {},
   "outputs": [
    {
     "name": "stdout",
     "output_type": "stream",
     "text": [
      "accuracy of the test set:  0.9358974358974359\n"
     ]
    }
   ],
   "source": [
    "# Perform accuracy calculation on the test set for Logistic Regression\n",
    "\n",
    "y_pred_test = clf.predict(X_test)\n",
    "acc_test = accuracy_score(y_test, y_pred_test)\n",
    "print(\"accuracy of the test set: \", acc_test)\n"
   ]
  },
  {
   "cell_type": "code",
   "execution_count": null,
   "metadata": {},
   "outputs": [],
   "source": []
  }
 ],
 "metadata": {
  "kernelspec": {
   "display_name": "Python 3",
   "language": "python",
   "name": "python3"
  },
  "language_info": {
   "codemirror_mode": {
    "name": "ipython",
    "version": 3
   },
   "file_extension": ".py",
   "mimetype": "text/x-python",
   "name": "python",
   "nbconvert_exporter": "python",
   "pygments_lexer": "ipython3",
   "version": "3.9.16"
  },
  "varInspector": {
   "cols": {
    "lenName": 16,
    "lenType": 16,
    "lenVar": 40
   },
   "kernels_config": {
    "python": {
     "delete_cmd_postfix": "",
     "delete_cmd_prefix": "del ",
     "library": "var_list.py",
     "varRefreshCmd": "print(var_dic_list())"
    },
    "r": {
     "delete_cmd_postfix": ") ",
     "delete_cmd_prefix": "rm(",
     "library": "var_list.r",
     "varRefreshCmd": "cat(var_dic_list()) "
    }
   },
   "types_to_exclude": [
    "module",
    "function",
    "builtin_function_or_method",
    "instance",
    "_Feature"
   ],
   "window_display": false
  }
 },
 "nbformat": 4,
 "nbformat_minor": 4
}
